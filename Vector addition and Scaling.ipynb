{
 "cells": [
  {
   "cell_type": "markdown",
   "metadata": {},
   "source": [
    "# Vectors in Python\n",
    "\n",
    "In this notebook we will learn how to plot vectors using the python language. Then we will create images to illustrate the operations of vector addition and vector scaling.\n",
    "\n",
    "We first import two useful libraries: The numpy library allows us to create vector objects and matplotlib allows us to create images."
   ]
  },
  {
   "cell_type": "code",
   "execution_count": 1,
   "metadata": {},
   "outputs": [],
   "source": [
    "import numpy as np\n",
    "import matplotlib.pyplot as plt"
   ]
  },
  {
   "cell_type": "markdown",
   "metadata": {},
   "source": [
    "Let $n$ represent a natural number (this means a positive integer, or a positive whole number).\n",
    "\n",
    "An $n$-vector is an ordered sequence of $n$ real numbers. The set of all $n$-vectors is denoted $\\mathbb{R}^n$. It is called $n$-space.\n",
    "\n",
    "2-space is also called the plane. Here are some examples of 2-vectors in the plane:\n",
    "\n",
    "$(1,2)$, $(-1,7)$, $(0, \\pi)$, $(-\\sqrt{2}, e)$.\n",
    "\n",
    "Here are some examples of vectors in 3-space:\n",
    "\n",
    "$(1,0,0)$, $(3,2,1)$, $(\\pi,\\pi,\\pi)$\n",
    "\n",
    "Here is a vector in 9-space (just so you see a higher dimensional vector):\n",
    "\n",
    "$(1,2,3,\\pi,2\\pi,3\\pi,e,2e,3e)$\n",
    "\n",
    "The vector $(0,\\ldots,0)$ with all coordinates equal to zero is called the **zero vector** or the **origin**.\n",
    "\n",
    "The standard representation of an $n$-vector is given by an arrow starting at the origin and ending at the point with coordinates equal to the coordinates of the vector.\n",
    "\n",
    "Let's use python to plot some examples of standard representations of a few vectors.\n",
    "\n",
    "We first create an image."
   ]
  },
  {
   "cell_type": "code",
   "execution_count": 6,
   "metadata": {},
   "outputs": [
    {
     "data": {
      "image/png": "[encoded data removed]",
      "text/plain": [
       "<Figure size 900x600 with 1 Axes>"
      ]
     },
     "metadata": {
      "needs_background": "light"
     },
     "output_type": "display_data"
    }
   ],
   "source": [
    "# Makes plot a little bit larger than the default.\n",
    "plt.rcParams['figure.dpi'] = 150\n",
    "\n",
    "# Create an image\n",
    "fig = plt.figure()\n",
    "ax = plt.axes()\n",
    "\n",
    "# Clear the image\n",
    "ax.clear()\n",
    "\n",
    "# Define the limits of the axes.\n",
    "ax.set_xlim([-3,3])\n",
    "ax.set_ylim([-3,3])\n",
    "\n",
    "# Set the scales of both axes to be the same.\n",
    "ax.axis('square')\n",
    "\n",
    "ax.axhline(y=0, color='k')\n",
    "ax.axvline(x=0, color='k')\n",
    "\n",
    "# Makes the grid visible.\n",
    "ax.grid(True)\n"
   ]
  },
  {
   "cell_type": "markdown",
   "metadata": {},
   "source": [
    "Now we will plot the standard representation of a few $2$-vectors.\n",
    "\n",
    "We will start by plotting the following vectors:\n",
    "\n",
    "$\\vec{0} = (0,0)$\n",
    "\n",
    "$\\vec{u} = (1,1)$\n",
    "\n",
    "$\\vec{v} = (-1,3)$\n",
    "\n",
    "$\\vec{w} = (2,-1)$"
   ]
  },
  {
   "cell_type": "code",
   "execution_count": 7,
   "metadata": {},
   "outputs": [
    {
     "data": {
      "image/png": "[encoded data removed]",
      "text/plain": [
       "<Figure size 900x600 with 1 Axes>"
      ]
     },
     "execution_count": 7,
     "metadata": {},
     "output_type": "execute_result"
    }
   ],
   "source": [
    "# Define the vectors\n",
    "zero = np.array([0,0])\n",
    "u = np.array([1,1])\n",
    "v = np.array([-1,3])\n",
    "w = np.array([2,-1])\n",
    "\n",
    "# Plots the origin\n",
    "ax.plot(*zero,'ok')\n",
    "\n",
    "# Plots u in blue\n",
    "ax.quiver(*zero, *u, color='b', scale_units='xy', angles='xy', scale=1)\n",
    "\n",
    "# Plots v in red\n",
    "ax.quiver(*zero, *v, color='r', scale_units='xy', angles='xy', scale=1)\n",
    "\n",
    "# Plots w in green\n",
    "ax.quiver(*zero, *w, color='g', scale_units='xy', angles='xy', scale=1)\n",
    "\n",
    "fig"
   ]
  },
  {
   "cell_type": "markdown",
   "metadata": {},
   "source": [
    "Let's now plot the following 3-vectors:\n",
    "\n",
    "$\\vec{0} = (0,0,0)$\n",
    "\n",
    "$\\vec{u} = (1,1,1)$\n",
    "\n",
    "$\\vec{v} = (-1,3,1)$\n",
    "\n",
    "$\\vec{w} = (2,-1,-2)$"
   ]
  },
  {
   "cell_type": "code",
   "execution_count": null,
   "metadata": {},
   "outputs": [],
   "source": [
    "\n",
    "\n"
   ]
  },
  {
   "cell_type": "code",
   "execution_count": null,
   "metadata": {},
   "outputs": [],
   "source": []
  }
 ],
 "metadata": {
  "kernelspec": {
   "display_name": "Python 3",
   "language": "python",
   "name": "python3"
  },
  "language_info": {
   "codemirror_mode": {
    "name": "ipython",
    "version": 3
   },
   "file_extension": ".py",
   "mimetype": "text/x-python",
   "name": "python",
   "nbconvert_exporter": "python",
   "pygments_lexer": "ipython3",
   "version": "3.7.6"
  }
 },
 "nbformat": 4,
 "nbformat_minor": 4
}
